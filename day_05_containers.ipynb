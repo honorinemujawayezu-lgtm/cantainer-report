{
 "cells": [
  {
   "cell_type": "markdown",
   "id": "b9b7a7b4",
   "metadata": {},
   "source": [
    "Containers\n",
    "\n",
    "List\n",
    "\n"
   ]
  },
  {
   "cell_type": "code",
   "execution_count": 1,
   "id": "e568d217",
   "metadata": {},
   "outputs": [
    {
     "name": "stdout",
     "output_type": "stream",
     "text": [
      "[1, 3, 4, 5, 6, 6]\n"
     ]
    }
   ],
   "source": [
    "## one dimensional list\n",
    "my_list = [1,3,4,5,6,6]\n",
    "print(my_list)"
   ]
  },
  {
   "cell_type": "code",
   "execution_count": 2,
   "id": "ce967422",
   "metadata": {},
   "outputs": [
    {
     "name": "stdout",
     "output_type": "stream",
     "text": [
      "[[3, 4], [4, 5, 6]]\n"
     ]
    }
   ],
   "source": [
    "## one dimensional list\n",
    "stonee = [[3,4],[4,5,6]]\n",
    "print(stonee)"
   ]
  },
  {
   "cell_type": "code",
   "execution_count": 7,
   "id": "72ba5e2f",
   "metadata": {},
   "outputs": [
    {
     "name": "stdout",
     "output_type": "stream",
     "text": [
      "['little', 2, 4, 4.5, 'fruits', 'bobo']\n"
     ]
    }
   ],
   "source": [
    "## list can contain different things\n",
    "excel = [\"little\", 2,4,4.5,\"fruits\",\"bobo\"]\n",
    "print(excel)"
   ]
  },
  {
   "cell_type": "code",
   "execution_count": 11,
   "id": "2d7848ba",
   "metadata": {},
   "outputs": [
    {
     "name": "stdout",
     "output_type": "stream",
     "text": [
      "[['coco']]\n"
     ]
    }
   ],
   "source": [
    "mine =list()\n",
    "mine.append([\"coco\"])\n",
    "print(mine)"
   ]
  },
  {
   "cell_type": "code",
   "execution_count": 18,
   "id": "095e7b3c",
   "metadata": {},
   "outputs": [
    {
     "name": "stdout",
     "output_type": "stream",
     "text": [
      "[34, 56, 7, 8, 9, 'jan', 'feb', 3.45]\n"
     ]
    }
   ],
   "source": [
    "x = [34,56,7,8,9,\"jan\",\"feb\",3.45]\n",
    "print(x)"
   ]
  },
  {
   "cell_type": "code",
   "execution_count": 16,
   "id": "b5cbd998",
   "metadata": {},
   "outputs": [
    {
     "data": {
      "text/plain": [
       "9"
      ]
     },
     "execution_count": 16,
     "metadata": {},
     "output_type": "execute_result"
    }
   ],
   "source": [
    "x[4]"
   ]
  },
  {
   "cell_type": "code",
   "execution_count": 19,
   "id": "81ec9441",
   "metadata": {},
   "outputs": [
    {
     "data": {
      "text/plain": [
       "'feb'"
      ]
     },
     "execution_count": 19,
     "metadata": {},
     "output_type": "execute_result"
    }
   ],
   "source": [
    "x[-2]"
   ]
  },
  {
   "cell_type": "code",
   "execution_count": 20,
   "id": "27826edc",
   "metadata": {},
   "outputs": [
    {
     "data": {
      "text/plain": [
       "[9, 'jan']"
      ]
     },
     "execution_count": 20,
     "metadata": {},
     "output_type": "execute_result"
    }
   ],
   "source": [
    "x[4:6]"
   ]
  },
  {
   "cell_type": "code",
   "execution_count": 21,
   "id": "ff3cc1b1",
   "metadata": {},
   "outputs": [
    {
     "data": {
      "text/plain": [
       "[8]"
      ]
     },
     "execution_count": 21,
     "metadata": {},
     "output_type": "execute_result"
    }
   ],
   "source": [
    "x[3:6:3]"
   ]
  },
  {
   "cell_type": "code",
   "execution_count": 22,
   "id": "f02949ff",
   "metadata": {},
   "outputs": [
    {
     "data": {
      "text/plain": [
       "[34, 7, 9, 'feb']"
      ]
     },
     "execution_count": 22,
     "metadata": {},
     "output_type": "execute_result"
    }
   ],
   "source": [
    "x[:7:2]"
   ]
  },
  {
   "cell_type": "code",
   "execution_count": 23,
   "id": "5f230d46",
   "metadata": {},
   "outputs": [
    {
     "data": {
      "text/plain": [
       "[34, 9]"
      ]
     },
     "execution_count": 23,
     "metadata": {},
     "output_type": "execute_result"
    }
   ],
   "source": [
    "x[::4]"
   ]
  },
  {
   "cell_type": "markdown",
   "id": "5390f1be",
   "metadata": {},
   "source": [
    "multi-dimensional list\n",
    "\n"
   ]
  },
  {
   "cell_type": "code",
   "execution_count": 24,
   "id": "27763e93",
   "metadata": {},
   "outputs": [
    {
     "name": "stdout",
     "output_type": "stream",
     "text": [
      "[['stannah', 'rebecca', 'philo'], ['fruit', 'vegetable', 'walking'], [26, 25, 23]]\n"
     ]
    }
   ],
   "source": [
    "mine = [[\"stannah\",\"rebecca\",\"philo\"],[\"fruit\",\"vegetable\",\"walking\"],[26,25,23]]\n",
    "print(mine)"
   ]
  },
  {
   "cell_type": "code",
   "execution_count": 32,
   "id": "d375d19c",
   "metadata": {},
   "outputs": [
    {
     "name": "stdout",
     "output_type": "stream",
     "text": [
      "patrice\n",
      "['stannah', 'rebecca', 'philo']\n",
      "[['stannah', 'rebecca', 'philo'], ['fruit', 'vegetable', 'walking'], 'patrice']\n"
     ]
    }
   ],
   "source": [
    "print(mine[2])\n",
    "print(mine[0])\n",
    "mine[2]=\"patrice\"\n",
    "\n",
    "print(mine)"
   ]
  },
  {
   "cell_type": "markdown",
   "id": "be7a91e9",
   "metadata": {},
   "source": [
    "Range"
   ]
  },
  {
   "cell_type": "code",
   "execution_count": 43,
   "id": "56c59cd8",
   "metadata": {},
   "outputs": [
    {
     "name": "stdout",
     "output_type": "stream",
     "text": [
      "[100, 99, 98, 97, 96, 95, 94, 93, 92, 91, 90, 89, 88, 87, 86, 85, 84, 83, 82, 81, 80, 79, 78, 77, 76, 75, 74, 73, 72, 71, 70, 69, 68, 67, 66, 65, 64, 63, 62, 61, 60, 59, 58, 57, 56, 55, 54, 53, 52, 51, 50, 49, 48, 47, 46, 45, 44, 43, 42, 41, 40, 39, 38, 37, 36, 35, 34, 33, 32, 31, 30, 29, 28, 27, 26, 25, 24, 23, 22, 21]\n"
     ]
    }
   ],
   "source": [
    "lolo = range(100,20, -1)\n",
    "print(list(lolo))\n"
   ]
  },
  {
   "cell_type": "code",
   "execution_count": 45,
   "id": "f11f99ab",
   "metadata": {},
   "outputs": [
    {
     "data": {
      "text/plain": [
       "80"
      ]
     },
     "execution_count": 45,
     "metadata": {},
     "output_type": "execute_result"
    }
   ],
   "source": [
    "len(mine)\n",
    "len(lolo)"
   ]
  },
  {
   "cell_type": "code",
   "execution_count": 48,
   "id": "d494496a",
   "metadata": {},
   "outputs": [
    {
     "name": "stdout",
     "output_type": "stream",
     "text": [
      "[['stannah', 'rebecca', 'philo'], ['fruit', 'vegetable', 'walking'], 'patrice', 34, 56, 7, 8, 9, 'jan', 'feb', 3.45]\n"
     ]
    }
   ],
   "source": [
    "h = mine + x\n",
    "print(h)"
   ]
  },
  {
   "cell_type": "code",
   "execution_count": 50,
   "id": "2d6824d8",
   "metadata": {},
   "outputs": [
    {
     "name": "stdout",
     "output_type": "stream",
     "text": [
      "[['stannah', 'rebecca', 'philo'], ['fruit', 'vegetable', 'walking'], 'patrice', ['stannah', 'rebecca', 'philo'], ['fruit', 'vegetable', 'walking'], 'patrice', ['stannah', 'rebecca', 'philo'], ['fruit', 'vegetable', 'walking'], 'patrice']\n"
     ]
    }
   ],
   "source": [
    "j = mine *3\n",
    "print(j)"
   ]
  },
  {
   "cell_type": "code",
   "execution_count": 52,
   "id": "dcff2a89",
   "metadata": {},
   "outputs": [
    {
     "data": {
      "text/plain": [
       "'patricepatrice'"
      ]
     },
     "execution_count": 52,
     "metadata": {},
     "output_type": "execute_result"
    }
   ],
   "source": [
    "mine[2] *2"
   ]
  },
  {
   "cell_type": "code",
   "execution_count": 55,
   "id": "b5e06545",
   "metadata": {},
   "outputs": [
    {
     "data": {
      "text/plain": [
       "['stannah', 'rebecca', 'philo', 2, 4, 5]"
      ]
     },
     "execution_count": 55,
     "metadata": {},
     "output_type": "execute_result"
    }
   ],
   "source": [
    "mine[0] + [2,4,5]"
   ]
  },
  {
   "cell_type": "code",
   "execution_count": 59,
   "id": "5a4a8c66",
   "metadata": {},
   "outputs": [
    {
     "name": "stdout",
     "output_type": "stream",
     "text": [
      "[['stannah', 'rebecca', 'philo'], ['fruit', 'vegetable', 'walking'], 'patrice', 'Rwanda', 'Rwanda', 'Rwanda', 'Today is sunny', 'Rwanda']\n"
     ]
    }
   ],
   "source": [
    "## append used to add one element\n",
    "mine.append(\"Rwanda\")\n",
    "print(mine)\n",
    "mine.append(\"Today is sunny\")"
   ]
  },
  {
   "cell_type": "code",
   "execution_count": 61,
   "id": "0e9b706b",
   "metadata": {},
   "outputs": [
    {
     "name": "stdout",
     "output_type": "stream",
     "text": [
      "[['stannah', 'rebecca', 'philo'], ['fruit', 'vegetable', 'walking'], 'patrice', 'Rwanda', 'Rwanda', 'Rwanda', 'Today is sunny', 'Rwanda', 'Today is sunny', 'jan', 'febu', 'nov', 'jan', 'febu', 'nov']\n"
     ]
    }
   ],
   "source": [
    "## extend used to add multiple element\n",
    "mine.extend([\"jan\",\"febu\",\"nov\"])\n",
    "print(mine)"
   ]
  },
  {
   "cell_type": "markdown",
   "id": "d57d49a8",
   "metadata": {},
   "source": [
    "list.insert(index, element) this is how we use insert"
   ]
  },
  {
   "cell_type": "code",
   "execution_count": 63,
   "id": "bd1912d6",
   "metadata": {},
   "outputs": [
    {
     "name": "stdout",
     "output_type": "stream",
     "text": [
      "[['stannah', 'rebecca', 'philo'], ['fruit', 'vegetable', 'walking'], 'patrice', 'Rwanda', 'Ndamukunda', 'Ndamukunda', 'Rwanda', 'Rwanda', 'Today is sunny', 'Rwanda', 'Today is sunny', 'jan', 'febu', 'nov', 'jan', 'febu', 'nov']\n"
     ]
    }
   ],
   "source": [
    "mine.insert(4,\"Ndamukunda\")\n",
    "print(mine)"
   ]
  }
 ],
 "metadata": {
  "kernelspec": {
   "display_name": "Python 3 (ipykernel)",
   "language": "python",
   "name": "python3"
  },
  "language_info": {
   "codemirror_mode": {
    "name": "ipython",
    "version": 3
   },
   "file_extension": ".py",
   "mimetype": "text/x-python",
   "name": "python",
   "nbconvert_exporter": "python",
   "pygments_lexer": "ipython3",
   "version": "3.11.5"
  }
 },
 "nbformat": 4,
 "nbformat_minor": 5
}
